{
 "cells": [
  {
   "cell_type": "code",
   "execution_count": 3,
   "metadata": {},
   "outputs": [],
   "source": [
    "import pandas as pd"
   ]
  },
  {
   "cell_type": "code",
   "execution_count": 4,
   "metadata": {},
   "outputs": [],
   "source": [
    "courses = pd.read_csv(\"./static/udemy_courses.csv\")"
   ]
  },
  {
   "cell_type": "code",
   "execution_count": 5,
   "metadata": {},
   "outputs": [
    {
     "data": {
      "text/plain": [
       "count      3678.000000\n",
       "mean       3197.150625\n",
       "std        9504.117010\n",
       "min           0.000000\n",
       "25%         111.000000\n",
       "50%         911.500000\n",
       "75%        2546.000000\n",
       "max      268923.000000\n",
       "Name: num_subscribers, dtype: float64"
      ]
     },
     "execution_count": 5,
     "metadata": {},
     "output_type": "execute_result"
    }
   ],
   "source": [
    "courses['num_subscribers'].describe()"
   ]
  },
  {
   "cell_type": "code",
   "execution_count": 6,
   "metadata": {},
   "outputs": [],
   "source": [
    "pop_cou = courses[(courses['num_subscribers']>12000) & (courses['num_reviews']>5000)]"
   ]
  },
  {
   "cell_type": "code",
   "execution_count": 7,
   "metadata": {},
   "outputs": [
    {
     "data": {
      "text/html": [
       "<div>\n",
       "<style scoped>\n",
       "    .dataframe tbody tr th:only-of-type {\n",
       "        vertical-align: middle;\n",
       "    }\n",
       "\n",
       "    .dataframe tbody tr th {\n",
       "        vertical-align: top;\n",
       "    }\n",
       "\n",
       "    .dataframe thead th {\n",
       "        text-align: right;\n",
       "    }\n",
       "</style>\n",
       "<table border=\"1\" class=\"dataframe\">\n",
       "  <thead>\n",
       "    <tr style=\"text-align: right;\">\n",
       "      <th></th>\n",
       "      <th>course_id</th>\n",
       "      <th>course_title</th>\n",
       "      <th>url</th>\n",
       "      <th>is_paid</th>\n",
       "      <th>price</th>\n",
       "      <th>num_subscribers</th>\n",
       "      <th>num_reviews</th>\n",
       "      <th>num_lectures</th>\n",
       "      <th>level</th>\n",
       "      <th>content_duration</th>\n",
       "      <th>published_timestamp</th>\n",
       "      <th>subject</th>\n",
       "    </tr>\n",
       "  </thead>\n",
       "  <tbody>\n",
       "    <tr>\n",
       "      <th>1979</th>\n",
       "      <td>238934</td>\n",
       "      <td>Pianoforall - Incredible New Way To Learn Pian...</td>\n",
       "      <td>https://www.udemy.com/pianoforall-incredible-n...</td>\n",
       "      <td>True</td>\n",
       "      <td>200</td>\n",
       "      <td>75499</td>\n",
       "      <td>7676</td>\n",
       "      <td>362</td>\n",
       "      <td>All Levels</td>\n",
       "      <td>30.0</td>\n",
       "      <td>2014-08-07T06:27:51Z</td>\n",
       "      <td>Musical Instruments</td>\n",
       "    </tr>\n",
       "    <tr>\n",
       "      <th>2589</th>\n",
       "      <td>473160</td>\n",
       "      <td>Web Design for Web Developers: Build Beautiful...</td>\n",
       "      <td>https://www.udemy.com/web-design-secrets/</td>\n",
       "      <td>False</td>\n",
       "      <td>0</td>\n",
       "      <td>98867</td>\n",
       "      <td>6512</td>\n",
       "      <td>20</td>\n",
       "      <td>All Levels</td>\n",
       "      <td>3.0</td>\n",
       "      <td>2015-04-13T18:29:47Z</td>\n",
       "      <td>Web Development</td>\n",
       "    </tr>\n",
       "  </tbody>\n",
       "</table>\n",
       "</div>"
      ],
      "text/plain": [
       "      course_id                                       course_title  \\\n",
       "1979     238934  Pianoforall - Incredible New Way To Learn Pian...   \n",
       "2589     473160  Web Design for Web Developers: Build Beautiful...   \n",
       "\n",
       "                                                    url  is_paid  price  \\\n",
       "1979  https://www.udemy.com/pianoforall-incredible-n...     True    200   \n",
       "2589          https://www.udemy.com/web-design-secrets/    False      0   \n",
       "\n",
       "      num_subscribers  num_reviews  num_lectures       level  \\\n",
       "1979            75499         7676           362  All Levels   \n",
       "2589            98867         6512            20  All Levels   \n",
       "\n",
       "      content_duration   published_timestamp              subject  \n",
       "1979              30.0  2014-08-07T06:27:51Z  Musical Instruments  \n",
       "2589               3.0  2015-04-13T18:29:47Z      Web Development  "
      ]
     },
     "execution_count": 7,
     "metadata": {},
     "output_type": "execute_result"
    }
   ],
   "source": [
    "pop_cou.head(2)"
   ]
  },
  {
   "cell_type": "code",
   "execution_count": 11,
   "metadata": {},
   "outputs": [],
   "source": [
    "courses['tags'] = courses['course_title'] + \" \" + courses['subject']"
   ]
  },
  {
   "cell_type": "code",
   "execution_count": 9,
   "metadata": {},
   "outputs": [
    {
     "data": {
      "text/html": [
       "<div>\n",
       "<style scoped>\n",
       "    .dataframe tbody tr th:only-of-type {\n",
       "        vertical-align: middle;\n",
       "    }\n",
       "\n",
       "    .dataframe tbody tr th {\n",
       "        vertical-align: top;\n",
       "    }\n",
       "\n",
       "    .dataframe thead th {\n",
       "        text-align: right;\n",
       "    }\n",
       "</style>\n",
       "<table border=\"1\" class=\"dataframe\">\n",
       "  <thead>\n",
       "    <tr style=\"text-align: right;\">\n",
       "      <th></th>\n",
       "      <th>course_id</th>\n",
       "      <th>course_title</th>\n",
       "      <th>url</th>\n",
       "      <th>is_paid</th>\n",
       "      <th>price</th>\n",
       "      <th>num_subscribers</th>\n",
       "      <th>num_reviews</th>\n",
       "      <th>num_lectures</th>\n",
       "      <th>level</th>\n",
       "      <th>content_duration</th>\n",
       "      <th>published_timestamp</th>\n",
       "      <th>subject</th>\n",
       "    </tr>\n",
       "  </thead>\n",
       "  <tbody>\n",
       "    <tr>\n",
       "      <th>3230</th>\n",
       "      <td>625204</td>\n",
       "      <td>The Web Developer Bootcamp</td>\n",
       "      <td>https://www.udemy.com/the-web-developer-bootcamp/</td>\n",
       "      <td>True</td>\n",
       "      <td>200</td>\n",
       "      <td>121584</td>\n",
       "      <td>27445</td>\n",
       "      <td>342</td>\n",
       "      <td>All Levels</td>\n",
       "      <td>43.0</td>\n",
       "      <td>2015-11-02T21:13:27Z</td>\n",
       "      <td>Web Development</td>\n",
       "    </tr>\n",
       "  </tbody>\n",
       "</table>\n",
       "</div>"
      ],
      "text/plain": [
       "      course_id                course_title  \\\n",
       "3230     625204  The Web Developer Bootcamp   \n",
       "\n",
       "                                                    url  is_paid  price  \\\n",
       "3230  https://www.udemy.com/the-web-developer-bootcamp/     True    200   \n",
       "\n",
       "      num_subscribers  num_reviews  num_lectures       level  \\\n",
       "3230           121584        27445           342  All Levels   \n",
       "\n",
       "      content_duration   published_timestamp          subject  \n",
       "3230              43.0  2015-11-02T21:13:27Z  Web Development  "
      ]
     },
     "execution_count": 9,
     "metadata": {},
     "output_type": "execute_result"
    }
   ],
   "source": [
    "courses[courses['course_id']==625204]"
   ]
  },
  {
   "cell_type": "code",
   "execution_count": 29,
   "metadata": {},
   "outputs": [
    {
     "data": {
      "text/plain": [
       "'https://www.udemy.com/trading-with-amazons-aws-servers-trade-secrets-of-the-pros/'"
      ]
     },
     "execution_count": 29,
     "metadata": {},
     "output_type": "execute_result"
    }
   ],
   "source": [
    "courses['url'].values[10]"
   ]
  },
  {
   "cell_type": "code",
   "execution_count": 19,
   "metadata": {},
   "outputs": [],
   "source": [
    "from bs4 import BeautifulSoup\n",
    "import requests"
   ]
  },
  {
   "cell_type": "code",
   "execution_count": 30,
   "metadata": {},
   "outputs": [
    {
     "name": "stdout",
     "output_type": "stream",
     "text": [
      "['https://img-c.udemycdn.com/course/240x135/592338_1537_4.jpg']\n"
     ]
    }
   ],
   "source": [
    "response = requests.get(courses['url'].values[10])\n",
    "\n",
    "output = []\n",
    "if response.status_code == 200:\n",
    "    bs = BeautifulSoup(response.content, 'html.parser')\n",
    "    spans = bs.find(\"span\", class_=\"intro-asset--img-aspect--3gluH\")\n",
    "    if spans:\n",
    "        first_image = spans.find(\"img\")\n",
    "        output.append(first_image.get(\"src\"))\n",
    "        \n",
    "    print(output)"
   ]
  },
  {
   "cell_type": "code",
   "execution_count": 49,
   "metadata": {},
   "outputs": [
    {
     "data": {
      "text/plain": [
       "(16, 12)"
      ]
     },
     "execution_count": 49,
     "metadata": {},
     "output_type": "execute_result"
    }
   ],
   "source": [
    "pop_cou.sort_values(by='num_subscribers', ascending=False, ignore_index=True).shape"
   ]
  },
  {
   "cell_type": "code",
   "execution_count": 41,
   "metadata": {},
   "outputs": [
    {
     "data": {
      "text/plain": [
       "count     3678.000000\n",
       "mean       156.259108\n",
       "std        935.452044\n",
       "min          0.000000\n",
       "25%          4.000000\n",
       "50%         18.000000\n",
       "75%         67.000000\n",
       "max      27445.000000\n",
       "Name: num_reviews, dtype: float64"
      ]
     },
     "execution_count": 41,
     "metadata": {},
     "output_type": "execute_result"
    }
   ],
   "source": [
    "courses['num_reviews'].describe()"
   ]
  },
  {
   "cell_type": "code",
   "execution_count": 12,
   "metadata": {},
   "outputs": [],
   "source": [
    "from sklearn.feature_extraction.text import TfidfVectorizer\n",
    "from sklearn.metrics.pairwise import cosine_similarity\n",
    "from nltk.stem import PorterStemmer\n",
    "from nltk.corpus import stopwords"
   ]
  },
  {
   "cell_type": "code",
   "execution_count": 13,
   "metadata": {},
   "outputs": [],
   "source": [
    "tokemizer = TfidfVectorizer().fit_transform(courses['tags'])\n",
    "similarity = cosine_similarity(tokemizer)"
   ]
  },
  {
   "cell_type": "code",
   "execution_count": 25,
   "metadata": {},
   "outputs": [],
   "source": [
    "def content_based_filtering(c_id, n_recommend):\n",
    "    n_recommend = int(n_recommend)\n",
    "    course_index = courses[courses['course_id'] == c_id].index[0]\n",
    "    distances = similarity[course_index]\n",
    "    course_lists = sorted(list(enumerate(distances)), reverse=True, key=lambda x:x[1])[1:n_recommend]\n",
    "\n",
    "    for i in course_lists:\n",
    "            print(courses.iloc[i[0]])"
   ]
  },
  {
   "cell_type": "code",
   "execution_count": 26,
   "metadata": {},
   "outputs": [
    {
     "name": "stdout",
     "output_type": "stream",
     "text": [
      "course_id                                                         390866\n",
      "course_title           The Complete Web Developer Bootcamp - Beginner...\n",
      "url                       https://www.udemy.com/job-ready-web-developer/\n",
      "is_paid                                                             True\n",
      "price                                                                190\n",
      "num_subscribers                                                    14103\n",
      "num_reviews                                                         1548\n",
      "num_lectures                                                         197\n",
      "level                                                         All Levels\n",
      "content_duration                                                    21.5\n",
      "published_timestamp                                 2015-01-19T00:23:15Z\n",
      "subject                                                  Web Development\n",
      "tags                   The Complete Web Developer Bootcamp - Beginner...\n",
      "Name: 2696, dtype: object\n",
      "course_id                                                         764164\n",
      "course_title                       The Complete Web Developer Course 2.0\n",
      "url                    https://www.udemy.com/the-complete-web-develop...\n",
      "is_paid                                                             True\n",
      "price                                                                200\n",
      "num_subscribers                                                   114512\n",
      "num_reviews                                                        22412\n",
      "num_lectures                                                         304\n",
      "level                                                         All Levels\n",
      "content_duration                                                    30.5\n",
      "published_timestamp                                 2016-03-08T22:28:36Z\n",
      "subject                                                  Web Development\n",
      "tags                   The Complete Web Developer Course 2.0 Web Deve...\n",
      "Name: 3232, dtype: object\n",
      "course_id                                                         882128\n",
      "course_title                            The Complete JavaScript Bootcamp\n",
      "url                    https://www.udemy.com/the-complete-javascript-...\n",
      "is_paid                                                             True\n",
      "price                                                                195\n",
      "num_subscribers                                                     1839\n",
      "num_reviews                                                           91\n",
      "num_lectures                                                          47\n",
      "level                                                         All Levels\n",
      "content_duration                                                     5.0\n",
      "published_timestamp                                 2016-06-20T16:56:06Z\n",
      "subject                                                  Web Development\n",
      "tags                    The Complete JavaScript Bootcamp Web Development\n",
      "Name: 3559, dtype: object\n",
      "course_id                                                         511838\n",
      "course_title                           The Advanced Web Developer Course\n",
      "url                    https://www.udemy.com/the-advanced-web-develop...\n",
      "is_paid                                                             True\n",
      "price                                                                100\n",
      "num_subscribers                                                     6890\n",
      "num_reviews                                                           99\n",
      "num_lectures                                                          90\n",
      "level                                                 Intermediate Level\n",
      "content_duration                                                    10.5\n",
      "published_timestamp                                 2015-06-03T18:21:21Z\n",
      "subject                                                  Web Development\n",
      "tags                   The Advanced Web Developer Course Web Development\n",
      "Name: 2809, dtype: object\n"
     ]
    }
   ],
   "source": [
    "content_based_filtering(625204, 5)"
   ]
  },
  {
   "cell_type": "code",
   "execution_count": null,
   "metadata": {},
   "outputs": [],
   "source": []
  }
 ],
 "metadata": {
  "kernelspec": {
   "display_name": "base",
   "language": "python",
   "name": "python3"
  },
  "language_info": {
   "codemirror_mode": {
    "name": "ipython",
    "version": 3
   },
   "file_extension": ".py",
   "mimetype": "text/x-python",
   "name": "python",
   "nbconvert_exporter": "python",
   "pygments_lexer": "ipython3",
   "version": "3.9.13 (main, Aug 25 2022, 23:51:50) [MSC v.1916 64 bit (AMD64)]"
  },
  "orig_nbformat": 4,
  "vscode": {
   "interpreter": {
    "hash": "dc07d24e2f18896857f0b2a651fe84ba40ce7b297e58d8804a308c8039f752a6"
   }
  }
 },
 "nbformat": 4,
 "nbformat_minor": 2
}
